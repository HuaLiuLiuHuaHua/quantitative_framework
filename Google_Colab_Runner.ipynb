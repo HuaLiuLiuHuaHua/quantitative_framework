{
 "nbformat": 4,
 "nbformat_minor": 0,
 "metadata": {
  "colab": {
   "provenance": []
  },
  "kernelspec": {
   "name": "python3",
   "display_name": "Python 3"
  },
  "language_info": {
   "name": "python"
  }
 },
 "cells": [
  {
   "cell_type": "markdown",
   "source": [
    "# 量化交易框架 Colab 運行器\n\n這個筆記本將引導您完成在 Google Colab 環境中設置和運行您的量化交易框架的整個過程。"
   ],
   "metadata": {
    "id": "sF2gGlEaV2-e"
   }
  },
  {
   "cell_type": "markdown",
   "source": [
    "## 步驟 1: 上傳並解壓您的專案\n\n1. 將您的整個 `quantitative_framework` 文件夾壓縮成一個名為 `project.zip` 的 ZIP 文件。\n2. 點擊左側文件夾圖標，打開文件瀏覽器。\n3. 點擊“上傳到會話存儲空間”圖標（帶有向上箭頭的文件夾圖標），然後選擇您剛剛創建的 `project.zip` 文件。\n4. 運行下面的程式碼單元來解壓縮文件。"
   ],
   "metadata": {
    "id": "hJgLzYJpV6kE"
   }
  },
  {
   "cell_type": "code",
   "execution_count": null,
   "metadata": {
    "id": "Yx3b-6a_WBV_"
   },
   "outputs": [],
   "source": [
    "!unzip -q project.zip"
   ]
  },
  {
   "cell_type": "markdown",
   "source": [
    "## 步驟 2: 安裝專案依賴項\n\n這將使用 `requirements.txt` 文件來安裝所有必需的 Python 函式庫。"
   ],
   "metadata": {
    "id": "50M8TT2iWEa3"
   }
  },
  {
   "cell_type": "code",
   "execution_count": null,
   "metadata": {
    "id": "T3cZ_GjFWG_p"
   },
   "outputs": [],
   "source": [
    "!pip install -r quantitative_framework/requirements.txt"
   ]
  },
  {
   "cell_type": "markdown",
   "source": [
    "## 步驟 3: 安裝您的量化框架\n\n這一步會將您的框架作為一個 Python 套件安裝到 Colab 環境中。這使得模塊導入（例如 `from shared import ...`）可以正常工作。"
   ],
   "metadata": {
    "id": "jIqZ-zJzWIuV"
   }
  },
  {
   "cell_type": "code",
   "execution_count": null,
   "metadata": {
    "id": "Bq_3v3CsWLCb"
   },
   "outputs": [],
   "source": [
    "# The `-e` flag installs it in editable mode, which is good for development\n",
    "!pip install -e quantitative_framework/"
   ]
  },
  {
   "cell_type": "markdown",
   "source": [
    "## 步驟 4: 運行一個 Walk-Forward 測試範例\n\n現在所有東西都已設置完畢，我們可以導入任何策略的 `run_walkforward` 函數並執行它。\n\n這裡我們以 `macd_atr` 策略為例。"
   ],
   "metadata": {
    "id": "A3GgJg9rWOhv"
   }
  },
  {
   "cell_type": "code",
   "execution_count": null,
   "metadata": {
    "id": "b-kEVhFqWQU_"
   },
   "outputs": [],
   "source": [
    "# 由於專案已安裝，我們可以從任何地方直接導入模塊\n",
    "from strategies.macd_atr.test_walkforward import run_walkforward\n",
    "\n",
    "# 運行分析 (參數來自原來的 if __name__ == \"__main__\" 塊) \n",
    "# 注意：Colab 環境通常提供2個CPU核心，所以我們將 n_jobs 設為 2\n",
    "wf_results = run_walkforward(\n",
    "    data_config=\"SOLUSDT_1h\",\n",
    "    macd_fast_range=(5, 20, 3),\n",
    "    macd_slow_range=(25, 45, 5),\n",
    "    macd_signal_range=(7, 15, 2),\n",
    "    atr_window_range=(10, 30, 5),\n",
    "    atr_multiplier_range=(1.0, 2.5, 0.5),\n",
    "    start_date=\"2022-10-01\",\n",
    "    end_date=\"2025-09-30\",\n",
    "    train_window=8760,\n",
    "    test_window=720,\n",
    "    step=720,\n",
    "    objective='profit_factor',\n",
    "    transaction_cost=0.002,\n",
    "    slippage=0.0005,\n",
    "    n_jobs=2,  # 推薦為 Colab 設置為 2\n",
    "    verbose=True\n",
    ")\n",
    "\n",
    "print(\"\nColab 測試完成！\")\n",
    "print(f\"結果已保存到: {wf_results['save_path']}\")"
   ]
  }
 ]
}